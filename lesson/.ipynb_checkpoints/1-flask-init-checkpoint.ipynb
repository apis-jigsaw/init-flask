{
 "cells": [
  {
   "cell_type": "markdown",
   "id": "f23c43e5-e8e2-4366-a8ae-e1017ff02a3d",
   "metadata": {},
   "source": [
    "# Flask Init"
   ]
  },
  {
   "cell_type": "markdown",
   "id": "1024fde4-09b1-4ad4-99c8-aa8ab6431dae",
   "metadata": {},
   "source": [
    "### Introduction"
   ]
  },
  {
   "cell_type": "markdown",
   "id": "3a1d9867-8c04-4586-b0f2-11bbe1129ba0",
   "metadata": {},
   "source": [
    "In the last lesson, we saw that we can use the `models/__init__.py` file to load various classes in the folder."
   ]
  },
  {
   "cell_type": "markdown",
   "id": "2217a1bb-f19a-4661-a3c4-3a8b45acda3a",
   "metadata": {},
   "source": [
    "```python\n",
    "# models/__init__.py\n",
    "from api.models.category import Category\n",
    "from api.models.venue import Venue\n",
    "```"
   ]
  },
  {
   "cell_type": "markdown",
   "id": "05c5ad9c-c523-4878-9027-027c7b2fde02",
   "metadata": {},
   "source": [
    "We can then import the classes directly from the folder.  For example, we can import the `Category` class directly from the models folder like so:"
   ]
  },
  {
   "cell_type": "markdown",
   "id": "c5bcc217-982e-457b-8344-5f6a22a4130c",
   "metadata": {},
   "source": [
    "```python\n",
    "from api.models import Category\n",
    "```"
   ]
  },
  {
   "cell_type": "markdown",
   "id": "0cb0eff2-44fd-4ef3-86b7-60f5c2886818",
   "metadata": {},
   "source": [
    "In this lesson, we'll learn additional uses for the `__init__.py`"
   ]
  },
  {
   "cell_type": "markdown",
   "id": "25878063-8343-4b93-886a-f1a3b7bc4638",
   "metadata": {},
   "source": [
    "### More on `__init__.py`"
   ]
  },
  {
   "cell_type": "markdown",
   "id": "1548293d-498f-4051-b6da-58aa41e7f2e0",
   "metadata": {},
   "source": [
    "The reason why we can place import, and then access modules from the `__init__.py` file is because the `__init__.py` file is automatically run when we import a folder.  For example, if we import `api.models` the `api/models/__init__.py` is automatically run.  \n",
    "\n",
    "We can see this, by first adding a `print()` statement inside of the `api/models/__init__.py` file like so.\n",
    "\n",
    "```python\n",
    "from api.models.category import Category\n",
    "from api.models.venue import Venue\n",
    "\n",
    "print('here we are')\n",
    "```\n",
    "\n",
    "And then we can import the `api.models` package from a Python console."
   ]
  },
  {
   "cell_type": "markdown",
   "id": "24e94c37-3fab-4d2c-b5a4-996056f311b3",
   "metadata": {},
   "source": [
    "<img src=\"./api-models.png\" width=\"50%\">"
   ]
  },
  {
   "cell_type": "markdown",
   "id": "b5be3b75-5ebb-47b7-ae19-47babf4472d3",
   "metadata": {},
   "source": [
    "So we can see that just because by importing the `api.models` folder, this runs our `__init__.py` file.  And as we saw in the last lesson, this means that we can write code like the following in our console.py file:"
   ]
  },
  {
   "cell_type": "markdown",
   "id": "e28d1812-6001-43a5-9e13-6691b5e7e89f",
   "metadata": {},
   "source": [
    "```python\n",
    "# console.py\n",
    "from api.models import Venue, Category\n",
    "```"
   ]
  },
  {
   "cell_type": "markdown",
   "id": "fd1fd6ac-dfa9-4bd7-84b9-293aad06fe6f",
   "metadata": {},
   "source": [
    "This works, because when we import `api.models` the `__init__.py` file is automatically run, which then runs the following imports:\n",
    "\n",
    "```python\n",
    "from api.models.category import Category\n",
    "from api.models.venue import Venue\n",
    "```"
   ]
  },
  {
   "cell_type": "markdown",
   "id": "90126138-aa75-405d-bda6-57ed61c9c974",
   "metadata": {},
   "source": [
    "### Moving Flask"
   ]
  },
  {
   "cell_type": "markdown",
   "id": "4b8676d6-8de4-4556-9902-1566ef386c6f",
   "metadata": {},
   "source": [
    "Because the `__init__.py` file is the first file that's run we'll sometimes add code is the most important to our project directly there.  In this case, that is the Flask application itself.  If you look at the code, you'll see that we removed the `main.py` file, and instead we moved the Flask app to the `api/__init__.py`."
   ]
  },
  {
   "cell_type": "markdown",
   "id": "6cfc28ac-3673-4491-8178-49bd230ba603",
   "metadata": {},
   "source": [
    "So now we can import the app from the `api` folder.  You'll notice that we made another change as well.  And that's to wrap our `app` inside of a `create_app` function.  \n",
    "\n",
    "Notice that inside of the `create_app` function we initialized the flask app, set the routes, and we returned the app."
   ]
  },
  {
   "cell_type": "markdown",
   "id": "fb434dff-aac5-4730-b9a2-44510305ce97",
   "metadata": {},
   "source": [
    "Then in the `run.py` file we import the `create_app` function, and create a new app with something like the following:"
   ]
  },
  {
   "cell_type": "markdown",
   "id": "e504d724-60f2-4fdf-b199-35f7066870d3",
   "metadata": {},
   "source": [
    "```python\n",
    "# run.py\n",
    "from settings import USER, DATABASE\n",
    "from api import create_app\n",
    "\n",
    "app = create_app(user = USER, database = DATABASE)\n",
    "\n",
    "app.run(debug = True)\n",
    "```"
   ]
  },
  {
   "cell_type": "markdown",
   "id": "1a4b9f9f-3694-473a-ac4c-72e9d03ce469",
   "metadata": {},
   "source": [
    "### Explaining the `create_app` function"
   ]
  },
  {
   "cell_type": "markdown",
   "id": "100662c7-2e3f-4ed1-bc77-09c617d5996e",
   "metadata": {},
   "source": [
    "So above, we see that we created a function `create_app`, that builds a new flask application.  What is the benefit of this?\n",
    "\n",
    "Well one immediate benefit is for testing the Flask application.  You can see this if you look at the `tests/test_app.py` file.\n",
    "\n",
    "There, we are able to test our api with something like the following:\n",
    "\n",
    "```python\n",
    "def test_restaurants_index(app, client):\n",
    "    response = client.get('/venues')\n",
    "    json_response = json.loads(response.data)\n",
    "\n",
    "    assert len(json_response) == 2\n",
    "    assert json_response[0]['name'] == 'La Famiglia'\n",
    "    assert json_response[1]['name'] == 'Cafe Mogador'\n",
    "    assert list(json_response[0].keys()) == ['id', 'foursquare_id', 'name', 'price', 'rating', 'likes', 'menu_url']\n",
    "```\n",
    "\n",
    "But to accomplish that, we first need to build our flask app (which we do in line 8):\n",
    "```python\n",
    "def app():\n",
    "    flask_app = create_app('foursquare_test', 'postgres')\n",
    "```\n",
    "\n",
    "And then from there we build a our client, which we can make requests to:\n",
    "```python\n",
    "def client(app):\n",
    "    \"\"\"A test client for the app.\"\"\"\n",
    "    return app.test_client()\n",
    "```"
   ]
  },
  {
   "cell_type": "markdown",
   "id": "3099f563-2d5b-4256-8148-f0e90e73bc6e",
   "metadata": {},
   "source": [
    "### Summary"
   ]
  },
  {
   "cell_type": "markdown",
   "id": "f2a22521-e836-479c-bcd2-5b8c3bf8a85c",
   "metadata": {},
   "source": [
    "In this lesson, we placed some final touches on the structure of our application.  We began with learning about the `__init__.py` file, and that it is automatically run when we import a directory.  Because of that, it is useful for both importing code that we want to be available whenever we import the directory.  \n",
    "\n",
    "We saw that because of this, we can move the code that defines our routes to the `api/__init__.py` file.  \n",
    "\n",
    "We then finished up by wrapping the creation of our application in a `create_app` function.  This allowed us to easily create a flask application, which we can take advantage of in testing the Flask app later on."
   ]
  },
  {
   "cell_type": "markdown",
   "id": "6ce9585a-4b2d-4832-9350-af0fc3c15510",
   "metadata": {},
   "source": [
    "### Resources\n",
    "\n",
    "[Stackoverflow init.py](https://stackoverflow.com/questions/14132789/relative-imports-for-the-billionth-time)\n",
    "\n",
    "[Berkeyly PythonPath](https://bic-berkeley.github.io/psych-214-fall-2016/using_pythonpath.html)"
   ]
  }
 ],
 "metadata": {
  "kernelspec": {
   "display_name": "Python 3 (ipykernel)",
   "language": "python",
   "name": "python3"
  },
  "language_info": {
   "codemirror_mode": {
    "name": "ipython",
    "version": 3
   },
   "file_extension": ".py",
   "mimetype": "text/x-python",
   "name": "python",
   "nbconvert_exporter": "python",
   "pygments_lexer": "ipython3",
   "version": "3.9.7"
  }
 },
 "nbformat": 4,
 "nbformat_minor": 5
}
